{
 "cells": [
  {
   "cell_type": "markdown",
   "metadata": {},
   "source": [
    "! [image001.svg]"
   ]
  },
  {
   "cell_type": "markdown",
   "metadata": {},
   "source": [
    "The ER Diagram we have created displays the entities, attributes, primary and foreign keys, and relationships between entities for a pet shop who sells fish and pets.. We have included seven entities, each with a varying number of attributes and keys. We first separated the entity “Pet Shop” into two entities, “Enclosures,” and “Aquariums,” with petID and fishID as their primary keys respectively. Attributes for these are fairly similar and include type, size, and quantity. We also have entities for “Expenses,” as well as “Profits.”The profits entity has a many-to-many relationship with the “Sales” entity, which has two attributes, one for anything fish related, and one for anything pet related. These are shown as fishID and petID, both being foreign keys to their respective entities. The expenses entity has a many-to-many relationship as well, but theirs is with the “Food” entity. The attributes here include the brand and quantity of food, as well as which animal type the food is for. Through this ER Diagram, the manager of this pet shop will be very useful. Through the diagram, it will be easier for them to track every aspect of their business, starting with their expenses, managing their inventory and pets, and lastly tracking their profits from sales. The use of primary and foreign keys will also help them if there is an issue in keeping track of any of these tasks, by allowing the manager to retrace their steps to see where there was an issue with their numbers."
   ]
  },
  {
   "cell_type": "code",
   "execution_count": null,
   "metadata": {},
   "outputs": [],
   "source": []
  }
 ],
 "metadata": {
  "kernelspec": {
   "display_name": "Python 2",
   "language": "python",
   "name": "python2"
  },
  "language_info": {
   "codemirror_mode": {
    "name": "ipython",
    "version": 2
   },
   "file_extension": ".py",
   "mimetype": "text/x-python",
   "name": "python",
   "nbconvert_exporter": "python",
   "pygments_lexer": "ipython2",
   "version": "2.7.16"
  }
 },
 "nbformat": 4,
 "nbformat_minor": 2
}
